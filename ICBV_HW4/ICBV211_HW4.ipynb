{
 "cells": [
  {
   "cell_type": "code",
   "execution_count": 1,
   "metadata": {
    "id": "G06yoEa_4Vmo"
   },
   "outputs": [],
   "source": [
    "import cv2\n",
    "import matplotlib.pyplot as plt\n",
    "import numpy as np\n",
    "%matplotlib inline\n",
    "\n",
    "import numpy as np\n",
    "import pandas as pd\n",
    "from itertools import product\n",
    "from IPython.display import display, Markdown, Latex"
   ]
  },
  {
   "cell_type": "markdown",
   "metadata": {
    "id": "6HB-lez84bMh"
   },
   "source": [
    "# Question 1 - Line Drawing Interpretation\n",
    "## Section b"
   ]
  },
  {
   "cell_type": "code",
   "execution_count": 2,
   "metadata": {
    "colab": {
     "base_uri": "https://localhost:8080/",
     "height": 287
    },
    "id": "bnbSFwU74o0x",
    "outputId": "4fe9eb05-8aa1-4fb3-babc-9f4f874dab9f"
   },
   "outputs": [
    {
     "data": {
      "text/plain": [
       "<matplotlib.image.AxesImage at 0x7efd905685f8>"
      ]
     },
     "execution_count": 2,
     "metadata": {
      "tags": []
     },
     "output_type": "execute_result"
    },
    {
     "data": {
      "image/png": "[encoded data removed]",
      "text/plain": [
       "<Figure size 432x288 with 1 Axes>"
      ]
     },
     "metadata": {
      "needs_background": "light",
      "tags": []
     },
     "output_type": "display_data"
    }
   ],
   "source": [
    "img = cv2.imread('Relax.png', cv2.IMREAD_GRAYSCALE)\n",
    "plt.imshow(img, cmap='gray')"
   ]
  },
  {
   "cell_type": "code",
   "execution_count": 69,
   "metadata": {
    "id": "TF7qv1pP5QCf"
   },
   "outputs": [
    {
     "data": {
      "text/html": [
       "<div>\n",
       "<style scoped>\n",
       "    .dataframe tbody tr th:only-of-type {\n",
       "        vertical-align: middle;\n",
       "    }\n",
       "\n",
       "    .dataframe tbody tr th {\n",
       "        vertical-align: top;\n",
       "    }\n",
       "\n",
       "    .dataframe thead th {\n",
       "        text-align: right;\n",
       "    }\n",
       "</style>\n",
       "<table border=\"1\" class=\"dataframe\">\n",
       "  <thead>\n",
       "    <tr style=\"text-align: right;\">\n",
       "      <th></th>\n",
       "      <th>b=1</th>\n",
       "      <th>b=2</th>\n",
       "      <th>b=3</th>\n",
       "      <th>b=4</th>\n",
       "    </tr>\n",
       "  </thead>\n",
       "  <tbody>\n",
       "    <tr>\n",
       "      <th>𝜆=1</th>\n",
       "      <td>0.000000</td>\n",
       "      <td>0.000000</td>\n",
       "      <td>0.000000</td>\n",
       "      <td>0.000000</td>\n",
       "    </tr>\n",
       "    <tr>\n",
       "      <th>𝜆=2</th>\n",
       "      <td>0.000000</td>\n",
       "      <td>0.000000</td>\n",
       "      <td>0.000000</td>\n",
       "      <td>0.000000</td>\n",
       "    </tr>\n",
       "    <tr>\n",
       "      <th>𝜆=3</th>\n",
       "      <td>0.000000</td>\n",
       "      <td>0.000000</td>\n",
       "      <td>0.000000</td>\n",
       "      <td>0.000000</td>\n",
       "    </tr>\n",
       "    <tr>\n",
       "      <th>𝜆=4</th>\n",
       "      <td>0.000000</td>\n",
       "      <td>0.000000</td>\n",
       "      <td>0.000000</td>\n",
       "      <td>0.000000</td>\n",
       "    </tr>\n",
       "    <tr>\n",
       "      <th>𝜆=5</th>\n",
       "      <td>0.000000</td>\n",
       "      <td>0.000000</td>\n",
       "      <td>0.000000</td>\n",
       "      <td>0.000000</td>\n",
       "    </tr>\n",
       "    <tr>\n",
       "      <th>𝜆=6</th>\n",
       "      <td>0.000000</td>\n",
       "      <td>0.000000</td>\n",
       "      <td>0.000000</td>\n",
       "      <td>0.000000</td>\n",
       "    </tr>\n",
       "    <tr>\n",
       "      <th>𝜆=7</th>\n",
       "      <td>0.000000</td>\n",
       "      <td>0.000000</td>\n",
       "      <td>0.000000</td>\n",
       "      <td>0.333333</td>\n",
       "    </tr>\n",
       "    <tr>\n",
       "      <th>𝜆=8</th>\n",
       "      <td>0.000000</td>\n",
       "      <td>0.000000</td>\n",
       "      <td>0.000000</td>\n",
       "      <td>0.333333</td>\n",
       "    </tr>\n",
       "    <tr>\n",
       "      <th>𝜆=9</th>\n",
       "      <td>0.000000</td>\n",
       "      <td>0.000000</td>\n",
       "      <td>0.000000</td>\n",
       "      <td>0.333333</td>\n",
       "    </tr>\n",
       "    <tr>\n",
       "      <th>𝜆=10</th>\n",
       "      <td>0.333333</td>\n",
       "      <td>0.333333</td>\n",
       "      <td>0.333333</td>\n",
       "      <td>0.000000</td>\n",
       "    </tr>\n",
       "    <tr>\n",
       "      <th>𝜆=11</th>\n",
       "      <td>0.333333</td>\n",
       "      <td>0.333333</td>\n",
       "      <td>0.333333</td>\n",
       "      <td>0.000000</td>\n",
       "    </tr>\n",
       "    <tr>\n",
       "      <th>𝜆=12</th>\n",
       "      <td>0.333333</td>\n",
       "      <td>0.333333</td>\n",
       "      <td>0.333333</td>\n",
       "      <td>0.000000</td>\n",
       "    </tr>\n",
       "    <tr>\n",
       "      <th>𝜆=13</th>\n",
       "      <td>0.000000</td>\n",
       "      <td>0.000000</td>\n",
       "      <td>0.000000</td>\n",
       "      <td>0.000000</td>\n",
       "    </tr>\n",
       "    <tr>\n",
       "      <th>𝜆=14</th>\n",
       "      <td>0.000000</td>\n",
       "      <td>0.000000</td>\n",
       "      <td>0.000000</td>\n",
       "      <td>0.000000</td>\n",
       "    </tr>\n",
       "    <tr>\n",
       "      <th>𝜆=15</th>\n",
       "      <td>0.000000</td>\n",
       "      <td>0.000000</td>\n",
       "      <td>0.000000</td>\n",
       "      <td>0.000000</td>\n",
       "    </tr>\n",
       "    <tr>\n",
       "      <th>𝜆=16</th>\n",
       "      <td>0.000000</td>\n",
       "      <td>0.000000</td>\n",
       "      <td>0.000000</td>\n",
       "      <td>0.000000</td>\n",
       "    </tr>\n",
       "  </tbody>\n",
       "</table>\n",
       "</div>"
      ],
      "text/latex": [
       "\\begin{tabular}{lrrrr}\n",
       "\\toprule\n",
       "{} &       b=1 &       b=2 &       b=3 &       b=4 \\\\\n",
       "\\midrule\n",
       "𝜆=1  &  0.000000 &  0.000000 &  0.000000 &  0.000000 \\\\\n",
       "𝜆=2  &  0.000000 &  0.000000 &  0.000000 &  0.000000 \\\\\n",
       "𝜆=3  &  0.000000 &  0.000000 &  0.000000 &  0.000000 \\\\\n",
       "𝜆=4  &  0.000000 &  0.000000 &  0.000000 &  0.000000 \\\\\n",
       "𝜆=5  &  0.000000 &  0.000000 &  0.000000 &  0.000000 \\\\\n",
       "𝜆=6  &  0.000000 &  0.000000 &  0.000000 &  0.000000 \\\\\n",
       "𝜆=7  &  0.000000 &  0.000000 &  0.000000 &  0.333333 \\\\\n",
       "𝜆=8  &  0.000000 &  0.000000 &  0.000000 &  0.333333 \\\\\n",
       "𝜆=9  &  0.000000 &  0.000000 &  0.000000 &  0.333333 \\\\\n",
       "𝜆=10 &  0.333333 &  0.333333 &  0.333333 &  0.000000 \\\\\n",
       "𝜆=11 &  0.333333 &  0.333333 &  0.333333 &  0.000000 \\\\\n",
       "𝜆=12 &  0.333333 &  0.333333 &  0.333333 &  0.000000 \\\\\n",
       "𝜆=13 &  0.000000 &  0.000000 &  0.000000 &  0.000000 \\\\\n",
       "𝜆=14 &  0.000000 &  0.000000 &  0.000000 &  0.000000 \\\\\n",
       "𝜆=15 &  0.000000 &  0.000000 &  0.000000 &  0.000000 \\\\\n",
       "𝜆=16 &  0.000000 &  0.000000 &  0.000000 &  0.000000 \\\\\n",
       "\\bottomrule\n",
       "\\end{tabular}\n"
      ],
      "text/plain": [
       "           b=1       b=2       b=3       b=4\n",
       "𝜆=1   0.000000  0.000000  0.000000  0.000000\n",
       "𝜆=2   0.000000  0.000000  0.000000  0.000000\n",
       "𝜆=3   0.000000  0.000000  0.000000  0.000000\n",
       "𝜆=4   0.000000  0.000000  0.000000  0.000000\n",
       "𝜆=5   0.000000  0.000000  0.000000  0.000000\n",
       "𝜆=6   0.000000  0.000000  0.000000  0.000000\n",
       "𝜆=7   0.000000  0.000000  0.000000  0.333333\n",
       "𝜆=8   0.000000  0.000000  0.000000  0.333333\n",
       "𝜆=9   0.000000  0.000000  0.000000  0.333333\n",
       "𝜆=10  0.333333  0.333333  0.333333  0.000000\n",
       "𝜆=11  0.333333  0.333333  0.333333  0.000000\n",
       "𝜆=12  0.333333  0.333333  0.333333  0.000000\n",
       "𝜆=13  0.000000  0.000000  0.000000  0.000000\n",
       "𝜆=14  0.000000  0.000000  0.000000  0.000000\n",
       "𝜆=15  0.000000  0.000000  0.000000  0.000000\n",
       "𝜆=16  0.000000  0.000000  0.000000  0.000000"
      ]
     },
     "execution_count": 69,
     "metadata": {},
     "output_type": "execute_result"
    }
   ],
   "source": [
    "def show_confidence(confidence,nObjects,nLabels):\n",
    "    pd.set_option('display.latex.repr', True)\n",
    "    return pd.DataFrame(confidence,\n",
    "                        columns=[f'b={i+1}' for i in range(nObjects)], #The columns are the objects\n",
    "                        index = [f'𝜆={i + 1}' for i in range(nLabels)]) #The rows are the labels\n",
    "\n",
    "nObjects = 4\n",
    "nLabels = 16\n",
    "# Initialize the confidence matrix \n",
    "confidence = np.zeros((nLabels, nObjects))\n",
    "# Set the initial confidence (confidence at iteration 0)\n",
    "confidence[9:12, 0] = (1 / 3)\n",
    "confidence[9:12, 1] = (1 / 3)\n",
    "confidence[9:12, 2] = (1 / 3)\n",
    "confidence[6:9, 3] = (1 / 3)\n",
    "# Display the initial confidence matrix\n",
    "show_confidence(confidence,nObjects,nLabels)"
   ]
  },
  {
   "cell_type": "code",
   "execution_count": 70,
   "metadata": {},
   "outputs": [
    {
     "data": {
      "text/plain": [
       "{(1, 1): [(10, 10), (11, 11), (12, 12)],\n",
       " (1, 2): [(10, 10), (11, 11), (12, 12)],\n",
       " (1, 3): [(10, 10), (11, 11), (12, 12)],\n",
       " (1, 4): [(12, 9), (10, 8), (11, 8), (12, 7)],\n",
       " (2, 1): [(10, 10), (11, 11), (12, 12)],\n",
       " (2, 2): [(10, 10), (11, 11), (12, 12)],\n",
       " (2, 3): [(10, 10), (11, 11), (12, 12)],\n",
       " (2, 4): [(12, 9), (10, 8), (11, 8), (12, 7)],\n",
       " (3, 1): [(10, 10), (11, 11), (12, 12)],\n",
       " (3, 2): [(10, 10), (11, 11), (12, 12)],\n",
       " (3, 3): [(10, 10), (11, 11), (12, 12)],\n",
       " (3, 4): [(12, 9), (10, 8), (11, 8), (12, 7)],\n",
       " (4, 1): [(9, 12), (8, 10), (8, 11), (7, 12)],\n",
       " (4, 2): [(9, 12), (8, 10), (8, 11), (7, 12)],\n",
       " (4, 3): [(9, 12), (8, 10), (8, 11), (7, 12)],\n",
       " (4, 4): [(7, 7), (8, 8), (9, 9)]}"
      ]
     },
     "execution_count": 70,
     "metadata": {},
     "output_type": "execute_result"
    }
   ],
   "source": [
    "# Initialize the compatibility function dictionary\n",
    "comp = {}\n",
    "# Fill in the dictionary: \n",
    "# the keys are tuples of objects (i,j)\n",
    "# the values are lists of tuples of labels [(𝜆1,𝜆2),...,(𝜆10,𝜆11)]\n",
    "comp[(1, 1)] = [(l, l) for l in [10,11,12]]\n",
    "comp[(1, 2)] = [(10, 10),(11, 11),(12, 12)]\n",
    "comp[(1, 3)] = [(10, 10),(11, 11),(12, 12)]\n",
    "comp[(1, 4)] = [(12, 9),(10, 8),(11, 8),(12, 7)]\n",
    "comp[(2, 1)] = [(l2, l1) for (l1, l2) in comp[(1, 2)]]\n",
    "comp[(2, 2)] = [(l, l) for l in [10,11,12]]\n",
    "comp[(2, 3)] = [(10, 10),(11, 11),(12, 12)]\n",
    "comp[(2, 4)] = [(12, 9),(10, 8),(11, 8),(12, 7)]\n",
    "comp[(3, 1)] = [(l2, l1) for (l1, l2) in comp[(1, 3)]]\n",
    "comp[(3, 2)] = [(l2, l1) for (l1, l2) in comp[(2, 3)]]\n",
    "comp[(3, 3)] = [(l, l) for l in [10,11,12]]\n",
    "comp[(3, 4)] = [(12, 9),(10, 8),(11, 8),(12, 7)]\n",
    "comp[(4, 1)] = [(l2, l1) for (l1, l2) in comp[(1, 4)]]\n",
    "comp[(4, 2)] = [(l2, l1) for (l1, l2) in comp[(2, 4)]]\n",
    "comp[(4, 3)] = [(l2, l1) for (l1, l2) in comp[(3, 4)]]\n",
    "comp[(4, 4)] = [(l, l) for l in [7,8,9]]\n",
    "\n",
    "# Display the compatibility dictionary\n",
    "comp"
   ]
  },
  {
   "cell_type": "code",
   "execution_count": 71,
   "metadata": {},
   "outputs": [],
   "source": [
    "# The standard support function:\n",
    "def support(obj,label,comp,confidence):\n",
    "  temp = [confidence[mu-1,j-1] for i,j in comp if i==obj\n",
    "          for lm,mu in comp[(i,j)] if lm==label]\n",
    "  return sum(temp)\n",
    "\n",
    "# The confidence update rule:\n",
    "def update(curr_confidence, comp):\n",
    "  nLabels, nObjects = curr_confidence.shape\n",
    "  res = np.zeros_like(curr_confidence)\n",
    "  for obj in range(nObjects):\n",
    "    res[:, obj] = [support(obj+1, label+1, comp, curr_confidence) \n",
    "                    for label in range(nLabels)]\n",
    "    res[:, obj] = res[:, obj] / res[:, obj].sum()\n",
    "  return res\n",
    "\n",
    "# The average local consistency:\n",
    "def average_local_consistency(confidence, comp):\n",
    "    nLabels, nObjects = confidence.shape\n",
    "    return sum(confidence[(label, obj)] * support(obj + 1, label + 1, comp, confidence)\n",
    "               for obj, label in product(range(nObjects), range(nLabels)))"
   ]
  },
  {
   "cell_type": "code",
   "execution_count": 72,
   "metadata": {},
   "outputs": [],
   "source": [
    "# The relaxation labeling algorithm:\n",
    "def relaxationLabeling(initial_confidence,comp,epsilon):\n",
    "  curr_it = initial_confidence\n",
    "  avg_local_cons = []\n",
    "  k = 0\n",
    "  while True:\n",
    "      avg_local_cons.append(average_local_consistency(curr_it, comp))\n",
    "      next_it = update(curr_it, comp)\n",
    "      diff = abs(average_local_consistency(curr_it, comp) - \n",
    "                 average_local_consistency(next_it, comp))\n",
    "      display(Markdown(r'$|A(\\bar{{ p^{{ {} }}  }}) - A(\\bar{{p^{{ {}  }}}})| = {}$'.format(k + 1, k, diff)))\n",
    "      curr_it = next_it\n",
    "      k = k + 1\n",
    "      if diff < epsilon:\n",
    "          break\n",
    "  return next_it, avg_local_cons"
   ]
  },
  {
   "cell_type": "code",
   "execution_count": 73,
   "metadata": {},
   "outputs": [
    {
     "data": {
      "text/markdown": [
       "$|A(\\bar{ p^{ 1 }  }) - A(\\bar{p^{ 0  }})| = 0.3493491124260357$"
      ],
      "text/plain": [
       "<IPython.core.display.Markdown object>"
      ]
     },
     "metadata": {},
     "output_type": "display_data"
    },
    {
     "data": {
      "text/markdown": [
       "$|A(\\bar{ p^{ 2 }  }) - A(\\bar{p^{ 1  }})| = 0.04461556915589959$"
      ],
      "text/plain": [
       "<IPython.core.display.Markdown object>"
      ]
     },
     "metadata": {},
     "output_type": "display_data"
    },
    {
     "data": {
      "text/markdown": [
       "$|A(\\bar{ p^{ 3 }  }) - A(\\bar{p^{ 2  }})| = 0.005878442218069324$"
      ],
      "text/plain": [
       "<IPython.core.display.Markdown object>"
      ]
     },
     "metadata": {},
     "output_type": "display_data"
    },
    {
     "data": {
      "text/markdown": [
       "$|A(\\bar{ p^{ 4 }  }) - A(\\bar{p^{ 3  }})| = 0.0007711437196924464$"
      ],
      "text/plain": [
       "<IPython.core.display.Markdown object>"
      ]
     },
     "metadata": {},
     "output_type": "display_data"
    }
   ],
   "source": [
    "#Use RL to find consistent labeling\n",
    "final_confidence, avg_local_cons = relaxationLabeling(confidence,comp,epsilon=0.001)"
   ]
  },
  {
   "cell_type": "code",
   "execution_count": 74,
   "metadata": {},
   "outputs": [
    {
     "data": {
      "text/html": [
       "<div>\n",
       "<style scoped>\n",
       "    .dataframe tbody tr th:only-of-type {\n",
       "        vertical-align: middle;\n",
       "    }\n",
       "\n",
       "    .dataframe tbody tr th {\n",
       "        vertical-align: top;\n",
       "    }\n",
       "\n",
       "    .dataframe thead th {\n",
       "        text-align: right;\n",
       "    }\n",
       "</style>\n",
       "<table border=\"1\" class=\"dataframe\">\n",
       "  <thead>\n",
       "    <tr style=\"text-align: right;\">\n",
       "      <th></th>\n",
       "      <th>b=1</th>\n",
       "      <th>b=2</th>\n",
       "      <th>b=3</th>\n",
       "      <th>b=4</th>\n",
       "    </tr>\n",
       "  </thead>\n",
       "  <tbody>\n",
       "    <tr>\n",
       "      <th>𝜆=1</th>\n",
       "      <td>0.000000</td>\n",
       "      <td>0.000000</td>\n",
       "      <td>0.000000</td>\n",
       "      <td>0.000000</td>\n",
       "    </tr>\n",
       "    <tr>\n",
       "      <th>𝜆=2</th>\n",
       "      <td>0.000000</td>\n",
       "      <td>0.000000</td>\n",
       "      <td>0.000000</td>\n",
       "      <td>0.000000</td>\n",
       "    </tr>\n",
       "    <tr>\n",
       "      <th>𝜆=3</th>\n",
       "      <td>0.000000</td>\n",
       "      <td>0.000000</td>\n",
       "      <td>0.000000</td>\n",
       "      <td>0.000000</td>\n",
       "    </tr>\n",
       "    <tr>\n",
       "      <th>𝜆=4</th>\n",
       "      <td>0.000000</td>\n",
       "      <td>0.000000</td>\n",
       "      <td>0.000000</td>\n",
       "      <td>0.000000</td>\n",
       "    </tr>\n",
       "    <tr>\n",
       "      <th>𝜆=5</th>\n",
       "      <td>0.000000</td>\n",
       "      <td>0.000000</td>\n",
       "      <td>0.000000</td>\n",
       "      <td>0.000000</td>\n",
       "    </tr>\n",
       "    <tr>\n",
       "      <th>𝜆=6</th>\n",
       "      <td>0.000000</td>\n",
       "      <td>0.000000</td>\n",
       "      <td>0.000000</td>\n",
       "      <td>0.000000</td>\n",
       "    </tr>\n",
       "    <tr>\n",
       "      <th>𝜆=7</th>\n",
       "      <td>0.000000</td>\n",
       "      <td>0.000000</td>\n",
       "      <td>0.000000</td>\n",
       "      <td>0.274604</td>\n",
       "    </tr>\n",
       "    <tr>\n",
       "      <th>𝜆=8</th>\n",
       "      <td>0.000000</td>\n",
       "      <td>0.000000</td>\n",
       "      <td>0.000000</td>\n",
       "      <td>0.450792</td>\n",
       "    </tr>\n",
       "    <tr>\n",
       "      <th>𝜆=9</th>\n",
       "      <td>0.000000</td>\n",
       "      <td>0.000000</td>\n",
       "      <td>0.000000</td>\n",
       "      <td>0.274604</td>\n",
       "    </tr>\n",
       "    <tr>\n",
       "      <th>𝜆=10</th>\n",
       "      <td>0.310745</td>\n",
       "      <td>0.310745</td>\n",
       "      <td>0.310745</td>\n",
       "      <td>0.000000</td>\n",
       "    </tr>\n",
       "    <tr>\n",
       "      <th>𝜆=11</th>\n",
       "      <td>0.310745</td>\n",
       "      <td>0.310745</td>\n",
       "      <td>0.310745</td>\n",
       "      <td>0.000000</td>\n",
       "    </tr>\n",
       "    <tr>\n",
       "      <th>𝜆=12</th>\n",
       "      <td>0.378510</td>\n",
       "      <td>0.378510</td>\n",
       "      <td>0.378510</td>\n",
       "      <td>0.000000</td>\n",
       "    </tr>\n",
       "    <tr>\n",
       "      <th>𝜆=13</th>\n",
       "      <td>0.000000</td>\n",
       "      <td>0.000000</td>\n",
       "      <td>0.000000</td>\n",
       "      <td>0.000000</td>\n",
       "    </tr>\n",
       "    <tr>\n",
       "      <th>𝜆=14</th>\n",
       "      <td>0.000000</td>\n",
       "      <td>0.000000</td>\n",
       "      <td>0.000000</td>\n",
       "      <td>0.000000</td>\n",
       "    </tr>\n",
       "    <tr>\n",
       "      <th>𝜆=15</th>\n",
       "      <td>0.000000</td>\n",
       "      <td>0.000000</td>\n",
       "      <td>0.000000</td>\n",
       "      <td>0.000000</td>\n",
       "    </tr>\n",
       "    <tr>\n",
       "      <th>𝜆=16</th>\n",
       "      <td>0.000000</td>\n",
       "      <td>0.000000</td>\n",
       "      <td>0.000000</td>\n",
       "      <td>0.000000</td>\n",
       "    </tr>\n",
       "  </tbody>\n",
       "</table>\n",
       "</div>"
      ],
      "text/latex": [
       "\\begin{tabular}{lrrrr}\n",
       "\\toprule\n",
       "{} &       b=1 &       b=2 &       b=3 &       b=4 \\\\\n",
       "\\midrule\n",
       "𝜆=1  &  0.000000 &  0.000000 &  0.000000 &  0.000000 \\\\\n",
       "𝜆=2  &  0.000000 &  0.000000 &  0.000000 &  0.000000 \\\\\n",
       "𝜆=3  &  0.000000 &  0.000000 &  0.000000 &  0.000000 \\\\\n",
       "𝜆=4  &  0.000000 &  0.000000 &  0.000000 &  0.000000 \\\\\n",
       "𝜆=5  &  0.000000 &  0.000000 &  0.000000 &  0.000000 \\\\\n",
       "𝜆=6  &  0.000000 &  0.000000 &  0.000000 &  0.000000 \\\\\n",
       "𝜆=7  &  0.000000 &  0.000000 &  0.000000 &  0.274604 \\\\\n",
       "𝜆=8  &  0.000000 &  0.000000 &  0.000000 &  0.450792 \\\\\n",
       "𝜆=9  &  0.000000 &  0.000000 &  0.000000 &  0.274604 \\\\\n",
       "𝜆=10 &  0.310745 &  0.310745 &  0.310745 &  0.000000 \\\\\n",
       "𝜆=11 &  0.310745 &  0.310745 &  0.310745 &  0.000000 \\\\\n",
       "𝜆=12 &  0.378510 &  0.378510 &  0.378510 &  0.000000 \\\\\n",
       "𝜆=13 &  0.000000 &  0.000000 &  0.000000 &  0.000000 \\\\\n",
       "𝜆=14 &  0.000000 &  0.000000 &  0.000000 &  0.000000 \\\\\n",
       "𝜆=15 &  0.000000 &  0.000000 &  0.000000 &  0.000000 \\\\\n",
       "𝜆=16 &  0.000000 &  0.000000 &  0.000000 &  0.000000 \\\\\n",
       "\\bottomrule\n",
       "\\end{tabular}\n"
      ],
      "text/plain": [
       "           b=1       b=2       b=3       b=4\n",
       "𝜆=1   0.000000  0.000000  0.000000  0.000000\n",
       "𝜆=2   0.000000  0.000000  0.000000  0.000000\n",
       "𝜆=3   0.000000  0.000000  0.000000  0.000000\n",
       "𝜆=4   0.000000  0.000000  0.000000  0.000000\n",
       "𝜆=5   0.000000  0.000000  0.000000  0.000000\n",
       "𝜆=6   0.000000  0.000000  0.000000  0.000000\n",
       "𝜆=7   0.000000  0.000000  0.000000  0.274604\n",
       "𝜆=8   0.000000  0.000000  0.000000  0.450792\n",
       "𝜆=9   0.000000  0.000000  0.000000  0.274604\n",
       "𝜆=10  0.310745  0.310745  0.310745  0.000000\n",
       "𝜆=11  0.310745  0.310745  0.310745  0.000000\n",
       "𝜆=12  0.378510  0.378510  0.378510  0.000000\n",
       "𝜆=13  0.000000  0.000000  0.000000  0.000000\n",
       "𝜆=14  0.000000  0.000000  0.000000  0.000000\n",
       "𝜆=15  0.000000  0.000000  0.000000  0.000000\n",
       "𝜆=16  0.000000  0.000000  0.000000  0.000000"
      ]
     },
     "execution_count": 74,
     "metadata": {},
     "output_type": "execute_result"
    }
   ],
   "source": [
    "# Display the final confidence matrix\n",
    "show_confidence(final_confidence,nObjects,nLabels)"
   ]
  },
  {
   "cell_type": "code",
   "execution_count": 75,
   "metadata": {},
   "outputs": [
    {
     "name": "stdout",
     "output_type": "stream",
     "text": [
      "Consistent labeling {b1=12,b2=12,b3=12,b4=8}\n"
     ]
    }
   ],
   "source": [
    "# Display the final consistent labeling we found:\n",
    "def show_consistent_labeling(final_confidence):\n",
    "  b1 = np.argmax(final_confidence[:,0])+1\n",
    "  b2 = np.argmax(final_confidence[:,1])+1\n",
    "  b3 = np.argmax(final_confidence[:,2])+1\n",
    "  b4 = np.argmax(final_confidence[:,3])+1\n",
    "  print(f'Consistent labeling {{b1={b1},b2={b2},b3={b3},b4={b4}}}')\n",
    "\n",
    "show_consistent_labeling(final_confidence)"
   ]
  },
  {
   "cell_type": "code",
   "execution_count": 76,
   "metadata": {},
   "outputs": [
    {
     "data": {
      "text/plain": [
       "[<matplotlib.lines.Line2D at 0x1fe34f65240>]"
      ]
     },
     "execution_count": 76,
     "metadata": {},
     "output_type": "execute_result"
    },
    {
     "data": {
      "image/png": "[encoded data removed]",
      "text/plain": [
       "<Figure size 432x288 with 1 Axes>"
      ]
     },
     "metadata": {
      "needs_background": "light"
     },
     "output_type": "display_data"
    }
   ],
   "source": [
    "plt.plot(avg_local_cons)"
   ]
  },
  {
   "cell_type": "code",
   "execution_count": null,
   "metadata": {},
   "outputs": [],
   "source": []
  },
  {
   "cell_type": "code",
   "execution_count": null,
   "metadata": {},
   "outputs": [],
   "source": []
  }
 ],
 "metadata": {
  "colab": {
   "collapsed_sections": [],
   "name": "ICBV211_HW4.ipynb",
   "provenance": []
  },
  "kernelspec": {
   "display_name": "Python 3",
   "language": "python",
   "name": "python3"
  },
  "language_info": {
   "codemirror_mode": {
    "name": "ipython",
    "version": 3
   },
   "file_extension": ".py",
   "mimetype": "text/x-python",
   "name": "python",
   "nbconvert_exporter": "python",
   "pygments_lexer": "ipython3",
   "version": "3.6.10"
  }
 },
 "nbformat": 4,
 "nbformat_minor": 1
}
